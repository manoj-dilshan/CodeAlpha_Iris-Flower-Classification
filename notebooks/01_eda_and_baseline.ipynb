{
 "cells": [
  {
   "cell_type": "code",
   "execution_count": null,
   "id": "8c2f5c7f",
   "metadata": {},
   "outputs": [],
   "source": [
    "# Cell 1: Imports & Load\n",
    "import pandas as pd\n",
    "import seaborn as sns\n",
    "import matplotlib.pyplot as plt\n",
    "\n",
    "from pathlib import Path\n",
    "\n",
    "from src.data_utils import load_iris_csv, standardize_iris_columns, IRIS_FEATURES, TARGET_COL\n",
    "from src.models import get_model\n",
    "from src.features import make_pipeline\n",
    "from sklearn.model_selection import train_test_split\n",
    "from sklearn.metrics import classification_report, ConfusionMatrixDisplay\n",
    "\n",
    "# Load CSV\n",
    "X, y, df = load_iris_csv(Path(\"data\") / \"Iris.csv\")\n",
    "df.head()"
   ]
  },
  {
   "cell_type": "code",
   "execution_count": null,
   "id": "659b662f",
   "metadata": {},
   "outputs": [],
   "source": [
    "# Cell 2: Basic info and class balance\n",
    "display(df.info())\n",
    "display(df.describe(numerical_only=True))\n",
    "\n",
    "sns.countplot(x=TARGET_COL, data=df)\n",
    "plt.title(\"Class Balance\")\n",
    "plt.show()"
   ]
  },
  {
   "cell_type": "code",
   "execution_count": null,
   "id": "eeab2bb8",
   "metadata": {},
   "outputs": [],
   "source": [
    "# Cell 3: Pairplot (EDA)\n",
    "sns.pairplot(df, vars=IRIS_FEATURES, hue=TARGET_COL, corner=True, diag_kind=\"hist\")\n",
    "plt.suptitle(\"Pairwise Feature Distributions\", y=1.02)\n",
    "plt.show()"
   ]
  },
  {
   "cell_type": "code",
   "execution_count": null,
   "id": "8907c069",
   "metadata": {},
   "outputs": [],
   "source": [
    "# Cell 4: Baseline model (SVM + scaling)\n",
    "from sklearn.model_selection import StratifiedKFold, cross_val_score\n",
    "\n",
    "X_train, X_test, y_train, y_test = train_test_split(\n",
    "    X, y, test_size=0.2, stratify=y, random_state=42\n",
    ")\n",
    "\n",
    "model = get_model(\"svm\", random_state=42)\n",
    "pipe = make_pipeline(model, scale=True)\n",
    "\n",
    "cv = StratifiedKFold(n_splits=5, shuffle=True, random_state=42)\n",
    "cv_scores = cross_val_score(pipe, X_train, y_train, cv=cv, scoring=\"accuracy\")\n",
    "print(f\"CV Accuracy: {cv_scores.mean():.3f} ± {cv_scores.std():.3f}\")\n",
    "\n",
    "pipe.fit(X_train, y_train)\n",
    "y_pred = pipe.predict(X_test)\n",
    "\n",
    "print(classification_report(y_test, y_pred))\n",
    "\n",
    "ConfusionMatrixDisplay.from_predictions(y_test, y_pred, cmap=\"Blues\")\n",
    "plt.title(\"Confusion Matrix — SVM Baseline\")\n",
    "plt.tight_layout()\n",
    "plt.show()"
   ]
  }
 ],
 "metadata": {
  "kernelspec": {
   "display_name": ".venv",
   "language": "python",
   "name": "python3"
  },
  "language_info": {
   "name": "python",
   "version": "3.12.3"
  }
 },
 "nbformat": 4,
 "nbformat_minor": 5
}
